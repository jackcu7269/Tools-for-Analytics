{
 "cells": [
  {
   "cell_type": "code",
   "execution_count": 1,
   "id": "a6b796bd",
   "metadata": {},
   "outputs": [],
   "source": [
    "import os\n",
    "import re\n",
    "import glob\n",
    "import math\n",
    "import subprocess\n",
    "import requests\n",
    "import sqlalchemy\n",
    "import numpy as np\n",
    "import pandas as pd\n",
    "import matplotlib.pyplot as plt\n",
    "from keplergl import KeplerGl\n",
    "from pandasql import sqldf\n",
    "from datetime import datetime\n",
    "from bs4 import BeautifulSoup\n",
    "from pathlib import Path"
   ]
  },
  {
   "cell_type": "markdown",
   "id": "62ff2233",
   "metadata": {},
   "source": [
    "# Part 1. Download and Preprocess Data"
   ]
  },
  {
   "cell_type": "markdown",
   "id": "1b114acf",
   "metadata": {},
   "source": [
    "We download all the yellow cab csv file from NYC.gov"
   ]
  },
  {
   "cell_type": "code",
   "execution_count": 2,
   "id": "1f458d41",
   "metadata": {},
   "outputs": [],
   "source": [
    "url = \"https://www1.nyc.gov/site/tlc/about/tlc-trip-record-data.page\"\n",
    "r = requests.get(url)"
   ]
  },
  {
   "cell_type": "code",
   "execution_count": 3,
   "id": "2249e4a1",
   "metadata": {},
   "outputs": [],
   "source": [
    "soup = BeautifulSoup(r.text)\n",
    "urls = []\n",
    "for link in soup.findAll('a', href=re.compile(\"yellow.+\\.csv$\")):\n",
    "    date = link.get(\"href\").split('/')[-1].split(\"_\")[-1]\n",
    "    year = int(date[:4])\n",
    "    if year >= 2009 and year < 2015:\n",
    "        urls.append(link.get(\"href\"))\n",
    "    if year == 2015:\n",
    "        month = int(date[5:7])\n",
    "        if month <= 6:\n",
    "            urls.append(link.get(\"href\"))\n",
    "\n",
    "def download_with_cache(url):\n",
    "    filename = url.split('/')[-1]\n",
    "    file = Path(\"./trip_data/\" + filename)\n",
    "    if file.is_file():\n",
    "        print(\"cache found for: \" + filename)\n",
    "    else:\n",
    "        print(\"downloading: \" + url)\n",
    "        r = requests.get(url)\n",
    "        with open(\"./trip_data/\" + filename, \"wb\") as f:\n",
    "            f.write(r.content)"
   ]
  },
  {
   "cell_type": "code",
   "execution_count": 4,
   "id": "8cbfa1d8",
   "metadata": {
    "scrolled": true
   },
   "outputs": [
    {
     "name": "stdout",
     "output_type": "stream",
     "text": [
      "cache found for: yellow_tripdata_2015-01.csv\n",
      "cache found for: yellow_tripdata_2015-02.csv\n",
      "cache found for: yellow_tripdata_2015-03.csv\n",
      "cache found for: yellow_tripdata_2015-04.csv\n",
      "cache found for: yellow_tripdata_2015-05.csv\n",
      "cache found for: yellow_tripdata_2015-06.csv\n",
      "cache found for: yellow_tripdata_2014-01.csv\n",
      "cache found for: yellow_tripdata_2014-02.csv\n",
      "cache found for: yellow_tripdata_2014-03.csv\n",
      "cache found for: yellow_tripdata_2014-04.csv\n",
      "cache found for: yellow_tripdata_2014-05.csv\n",
      "cache found for: yellow_tripdata_2014-06.csv\n",
      "cache found for: yellow_tripdata_2014-07.csv\n",
      "cache found for: yellow_tripdata_2014-08.csv\n",
      "cache found for: yellow_tripdata_2014-09.csv\n",
      "cache found for: yellow_tripdata_2014-10.csv\n",
      "cache found for: yellow_tripdata_2014-11.csv\n",
      "cache found for: yellow_tripdata_2014-12.csv\n",
      "cache found for: yellow_tripdata_2013-01.csv\n",
      "cache found for: yellow_tripdata_2013-02.csv\n",
      "cache found for: yellow_tripdata_2013-03.csv\n",
      "cache found for: yellow_tripdata_2013-04.csv\n",
      "cache found for: yellow_tripdata_2013-05.csv\n",
      "cache found for: yellow_tripdata_2013-06.csv\n",
      "cache found for: yellow_tripdata_2013-07.csv\n",
      "cache found for: yellow_tripdata_2013-08.csv\n",
      "cache found for: yellow_tripdata_2013-09.csv\n",
      "cache found for: yellow_tripdata_2013-10.csv\n",
      "cache found for: yellow_tripdata_2013-11.csv\n",
      "cache found for: yellow_tripdata_2013-12.csv\n",
      "cache found for: yellow_tripdata_2012-01.csv\n",
      "cache found for: yellow_tripdata_2012-02.csv\n",
      "cache found for: yellow_tripdata_2012-03.csv\n",
      "cache found for: yellow_tripdata_2012-04.csv\n",
      "cache found for: yellow_tripdata_2012-05.csv\n",
      "cache found for: yellow_tripdata_2012-06.csv\n",
      "cache found for: yellow_tripdata_2012-07.csv\n",
      "cache found for: yellow_tripdata_2012-08.csv\n",
      "cache found for: yellow_tripdata_2012-09.csv\n",
      "cache found for: yellow_tripdata_2012-10.csv\n",
      "cache found for: yellow_tripdata_2012-11.csv\n",
      "cache found for: yellow_tripdata_2012-12.csv\n",
      "cache found for: yellow_tripdata_2011-01.csv\n",
      "cache found for: yellow_tripdata_2011-02.csv\n",
      "cache found for: yellow_tripdata_2011-03.csv\n",
      "cache found for: yellow_tripdata_2011-04.csv\n",
      "cache found for: yellow_tripdata_2011-05.csv\n",
      "cache found for: yellow_tripdata_2011-06.csv\n",
      "cache found for: yellow_tripdata_2011-07.csv\n",
      "cache found for: yellow_tripdata_2011-08.csv\n",
      "cache found for: yellow_tripdata_2011-09.csv\n",
      "cache found for: yellow_tripdata_2011-10.csv\n",
      "cache found for: yellow_tripdata_2011-11.csv\n",
      "cache found for: yellow_tripdata_2011-12.csv\n",
      "cache found for: yellow_tripdata_2010-01.csv\n",
      "cache found for: yellow_tripdata_2010-02.csv\n",
      "cache found for: yellow_tripdata_2010-03.csv\n",
      "cache found for: yellow_tripdata_2010-04.csv\n",
      "cache found for: yellow_tripdata_2010-05.csv\n",
      "cache found for: yellow_tripdata_2010-06.csv\n",
      "cache found for: yellow_tripdata_2010-07.csv\n",
      "cache found for: yellow_tripdata_2010-08.csv\n",
      "cache found for: yellow_tripdata_2010-09.csv\n",
      "cache found for: yellow_tripdata_2010-10.csv\n",
      "cache found for: yellow_tripdata_2010-11.csv\n",
      "cache found for: yellow_tripdata_2010-12.csv\n",
      "cache found for: yellow_tripdata_2009-01.csv\n",
      "cache found for: yellow_tripdata_2009-02.csv\n",
      "cache found for: yellow_tripdata_2009-03.csv\n",
      "cache found for: yellow_tripdata_2009-04.csv\n",
      "cache found for: yellow_tripdata_2009-05.csv\n",
      "cache found for: yellow_tripdata_2009-06.csv\n",
      "cache found for: yellow_tripdata_2009-07.csv\n",
      "cache found for: yellow_tripdata_2009-08.csv\n",
      "cache found for: yellow_tripdata_2009-09.csv\n",
      "cache found for: yellow_tripdata_2009-10.csv\n",
      "cache found for: yellow_tripdata_2009-11.csv\n",
      "cache found for: yellow_tripdata_2009-12.csv\n"
     ]
    }
   ],
   "source": [
    "# Downloads all yellow taxi data\n",
    "for url in urls:\n",
    "    download_with_cache(url)"
   ]
  },
  {
   "cell_type": "code",
   "execution_count": 5,
   "id": "3fc24640",
   "metadata": {},
   "outputs": [],
   "source": [
    "columns = [\"tpep_pickup_datetime\", \n",
    "           \"pickup_longitude\", \n",
    "           \"pickup_latitude\", \n",
    "           \"dropoff_longitude\", \n",
    "           \"dropoff_latitude\",\n",
    "           \"tip_amount\",\n",
    "           \"total_amount\"]\n",
    "columns2 = [\"pickup_datetime\", \n",
    "           \"pickup_longitude\", \n",
    "           \"pickup_latitude\", \n",
    "           \"dropoff_longitude\", \n",
    "           \"dropoff_latitude\",\n",
    "           \"tip_amount\",\n",
    "           \"total_amount\"]\n",
    "columns3 = [\"Trip_Pickup_DateTime\", \n",
    "           \"Start_Lon\",\n",
    "           \"Start_Lat\",\n",
    "           \"End_Lon\", \n",
    "           \"End_Lat\",\n",
    "           \"Tip_Amt\",\n",
    "           \"Total_Amt\"]"
   ]
  },
  {
   "cell_type": "markdown",
   "id": "c1e9f877",
   "metadata": {},
   "source": [
    "## Since the dataset is too large, we sample the 0.1% of the data to speed up the computation."
   ]
  },
  {
   "cell_type": "code",
   "execution_count": 6,
   "id": "b289904e",
   "metadata": {
    "scrolled": true
   },
   "outputs": [
    {
     "name": "stdout",
     "output_type": "stream",
     "text": [
      "cache found for: ./trip_data/yellow_tripdata_2015-05.csv\n",
      "cache found for: ./trip_data/yellow_tripdata_2010-09.csv\n",
      "cache found for: ./trip_data/yellow_tripdata_2010-08.csv\n",
      "cache found for: ./trip_data/yellow_tripdata_2009-01.csv\n",
      "cache found for: ./trip_data/yellow_tripdata_2015-04.csv\n",
      "cache found for: ./trip_data/yellow_tripdata_2015-06.csv\n",
      "cache found for: ./trip_data/yellow_tripdata_2009-03.csv\n",
      "cache found for: ./trip_data/yellow_tripdata_2009-02.csv\n",
      "cache found for: ./trip_data/yellow_tripdata_2015-03.csv\n",
      "cache found for: ./trip_data/yellow_tripdata_2009-12.csv\n",
      "cache found for: ./trip_data/yellow_tripdata_2009-06.csv\n",
      "cache found for: ./trip_data/yellow_tripdata_2009-07.csv\n",
      "cache found for: ./trip_data/yellow_tripdata_2015-02.csv\n",
      "cache found for: ./trip_data/yellow_tripdata_2012-09.csv\n",
      "cache found for: ./trip_data/yellow_tripdata_2009-05.csv\n",
      "cache found for: ./trip_data/yellow_tripdata_2009-11.csv\n",
      "cache found for: ./trip_data/yellow_tripdata_2009-10.csv\n",
      "cache found for: ./trip_data/yellow_tripdata_2009-04.csv\n",
      "cache found for: ./trip_data/yellow_tripdata_2012-08.csv\n",
      "cache found for: ./trip_data/yellow_tripdata_2015-01.csv\n",
      "cache found for: ./trip_data/yellow_tripdata_2011-02.csv\n",
      "cache found for: ./trip_data/yellow_tripdata_2013-07.csv\n",
      "cache found for: ./trip_data/yellow_tripdata_2013-12.csv\n",
      "cache found for: ./trip_data/yellow_tripdata_2013-06.csv\n",
      "cache found for: ./trip_data/yellow_tripdata_2011-03.csv\n",
      "cache found for: ./trip_data/yellow_tripdata_2011-01.csv\n",
      "cache found for: ./trip_data/yellow_tripdata_2013-10.csv\n",
      "cache found for: ./trip_data/yellow_tripdata_2013-04.csv\n",
      "cache found for: ./trip_data/yellow_tripdata_2013-05.csv\n",
      "cache found for: ./trip_data/yellow_tripdata_2013-11.csv\n",
      "cache found for: ./trip_data/yellow_tripdata_2011-10.csv\n",
      "cache found for: ./trip_data/yellow_tripdata_2011-04.csv\n",
      "cache found for: ./trip_data/yellow_tripdata_2014-08.csv\n",
      "cache found for: ./trip_data/yellow_tripdata_2013-01.csv\n",
      "cache found for: ./trip_data/yellow_tripdata_2014-09.csv\n",
      "cache found for: ./trip_data/yellow_tripdata_2011-05.csv\n",
      "cache found for: ./trip_data/yellow_tripdata_2011-11.csv\n",
      "cache found for: ./trip_data/yellow_tripdata_2011-07.csv\n",
      "cache found for: ./trip_data/yellow_tripdata_2013-02.csv\n",
      "cache found for: ./trip_data/yellow_tripdata_2013-03.csv\n",
      "cache found for: ./trip_data/yellow_tripdata_2011-12.csv\n",
      "cache found for: ./trip_data/yellow_tripdata_2011-06.csv\n",
      "cache found for: ./trip_data/yellow_tripdata_2014-07.csv\n",
      "cache found for: ./trip_data/yellow_tripdata_2014-06.csv\n",
      "cache found for: ./trip_data/yellow_tripdata_2014-12.csv\n",
      "cache found for: ./trip_data/yellow_tripdata_2011-08.csv\n",
      "cache found for: ./trip_data/yellow_tripdata_2014-04.csv\n",
      "cache found for: ./trip_data/yellow_tripdata_2014-10.csv\n",
      "cache found for: ./trip_data/yellow_tripdata_2014-11.csv\n",
      "cache found for: ./trip_data/yellow_tripdata_2014-05.csv\n",
      "cache found for: ./trip_data/yellow_tripdata_2011-09.csv\n",
      "cache found for: ./trip_data/yellow_tripdata_2013-08.csv\n",
      "cache found for: ./trip_data/yellow_tripdata_2014-01.csv\n",
      "cache found for: ./trip_data/yellow_tripdata_2013-09.csv\n",
      "cache found for: ./trip_data/yellow_tripdata_2014-02.csv\n",
      "cache found for: ./trip_data/yellow_tripdata_2014-03.csv\n",
      "cache found for: ./trip_data/yellow_tripdata_2012-11.csv\n",
      "cache found for: ./trip_data/yellow_tripdata_2012-05.csv\n",
      "cache found for: ./trip_data/yellow_tripdata_2009-09.csv\n",
      "cache found for: ./trip_data/yellow_tripdata_2010-01.csv\n",
      "cache found for: ./trip_data/yellow_tripdata_2009-08.csv\n",
      "cache found for: ./trip_data/yellow_tripdata_2012-04.csv\n",
      "cache found for: ./trip_data/yellow_tripdata_2012-10.csv\n",
      "cache found for: ./trip_data/yellow_tripdata_2012-06.csv\n",
      "cache found for: ./trip_data/yellow_tripdata_2012-12.csv\n",
      "cache found for: ./trip_data/yellow_tripdata_2010-03.csv\n",
      "cache found for: ./trip_data/yellow_tripdata_2010-02.csv\n",
      "cache found for: ./trip_data/yellow_tripdata_2012-07.csv\n",
      "cache found for: ./trip_data/yellow_tripdata_2012-03.csv\n",
      "cache found for: ./trip_data/yellow_tripdata_2010-06.csv\n",
      "cache found for: ./trip_data/yellow_tripdata_2010-12.csv\n",
      "cache found for: ./trip_data/yellow_tripdata_2010-07.csv\n",
      "cache found for: ./trip_data/yellow_tripdata_2012-02.csv\n",
      "cache found for: ./trip_data/yellow_tripdata_2010-11.csv\n",
      "cache found for: ./trip_data/yellow_tripdata_2010-05.csv\n",
      "cache found for: ./trip_data/yellow_tripdata_2010-04.csv\n",
      "cache found for: ./trip_data/yellow_tripdata_2010-10.csv\n",
      "cache found for: ./trip_data/yellow_tripdata_2012-01.csv\n"
     ]
    }
   ],
   "source": [
    "all_files = glob.glob(\"./trip_data/*.csv\")\n",
    "samples = \"./trip_data/sampled/\"\n",
    "\n",
    "n = 1000 \n",
    "\n",
    "# Take samples from the original dataset\n",
    "for filename in all_files:\n",
    "    file = filename.split('/')[-1]\n",
    "    file = Path(\"./trip_data/sampled/\" + file)\n",
    "    if file.is_file():\n",
    "        print(\"cache found for: \" + filename)\n",
    "    else:\n",
    "        print(\"reading: \" + filename)\n",
    "        df = pd.read_csv(filename, header=0, skiprows=lambda i: i % n != 0, on_bad_lines='skip')\n",
    "        df.to_csv(samples + filename.split(\"/\")[-1])\n"
   ]
  },
  {
   "cell_type": "markdown",
   "id": "0e62de5b",
   "metadata": {},
   "source": [
    "## Calculating distance"
   ]
  },
  {
   "cell_type": "code",
   "execution_count": 7,
   "id": "36b8b855",
   "metadata": {},
   "outputs": [],
   "source": [
    "# Latitude 1 deg = 110.574\n",
    "# Longtitude 1 deg = 111.320 * cos(latitude)\n",
    "def calculate_dis(item):\n",
    "    lat_ave = (item[\"pickup_latitude\"] + item[\"dropoff_latitude\"]) / 2\n",
    "    lat = abs(item[\"pickup_latitude\"] - item[\"dropoff_latitude\"]) * 110.574\n",
    "    lon = abs(item[\"pickup_longitude\"] - item[\"dropoff_longitude\"]) * 111.320 * math.cos(lat_ave * math.pi /180)\n",
    "    return math.sqrt(lat**2 + lon**2)"
   ]
  },
  {
   "cell_type": "markdown",
   "id": "010d64ea",
   "metadata": {},
   "source": [
    "## Read the sampled data and cleanup the data."
   ]
  },
  {
   "cell_type": "code",
   "execution_count": 11,
   "id": "76fc0b32",
   "metadata": {
    "scrolled": true
   },
   "outputs": [
    {
     "name": "stdout",
     "output_type": "stream",
     "text": [
      "./trip_data/sampled/yellow_tripdata_2015-05.csv\n",
      "./trip_data/sampled/yellow_tripdata_2010-09.csv\n",
      "./trip_data/sampled/yellow_tripdata_2010-08.csv\n",
      "./trip_data/sampled/yellow_tripdata_2009-01.csv\n",
      "./trip_data/sampled/yellow_tripdata_2015-04.csv\n",
      "./trip_data/sampled/yellow_tripdata_2015-06.csv\n",
      "./trip_data/sampled/yellow_tripdata_2009-03.csv\n",
      "./trip_data/sampled/yellow_tripdata_2009-02.csv\n",
      "./trip_data/sampled/yellow_tripdata_2015-03.csv\n",
      "./trip_data/sampled/yellow_tripdata_2009-12.csv\n",
      "./trip_data/sampled/yellow_tripdata_2009-06.csv\n",
      "./trip_data/sampled/yellow_tripdata_2009-07.csv\n",
      "./trip_data/sampled/yellow_tripdata_2015-02.csv\n",
      "./trip_data/sampled/yellow_tripdata_2012-09.csv\n",
      "./trip_data/sampled/yellow_tripdata_2009-05.csv\n",
      "./trip_data/sampled/yellow_tripdata_2009-11.csv\n",
      "./trip_data/sampled/yellow_tripdata_2009-10.csv\n",
      "./trip_data/sampled/yellow_tripdata_2009-04.csv\n",
      "./trip_data/sampled/yellow_tripdata_2012-08.csv\n",
      "./trip_data/sampled/yellow_tripdata_2015-01.csv\n",
      "./trip_data/sampled/yellow_tripdata_2011-02.csv\n",
      "./trip_data/sampled/yellow_tripdata_2013-07.csv\n",
      "./trip_data/sampled/yellow_tripdata_2013-12.csv\n",
      "./trip_data/sampled/yellow_tripdata_2013-06.csv\n",
      "./trip_data/sampled/yellow_tripdata_2011-03.csv\n",
      "./trip_data/sampled/yellow_tripdata_2011-01.csv\n",
      "./trip_data/sampled/yellow_tripdata_2013-10.csv\n",
      "./trip_data/sampled/yellow_tripdata_2013-04.csv\n",
      "./trip_data/sampled/yellow_tripdata_2013-05.csv\n",
      "./trip_data/sampled/yellow_tripdata_2013-11.csv\n",
      "./trip_data/sampled/yellow_tripdata_2011-10.csv\n",
      "./trip_data/sampled/yellow_tripdata_2011-04.csv\n",
      "./trip_data/sampled/yellow_tripdata_2014-08.csv\n",
      "./trip_data/sampled/yellow_tripdata_2013-01.csv\n",
      "./trip_data/sampled/yellow_tripdata_2014-09.csv\n",
      "./trip_data/sampled/yellow_tripdata_2011-05.csv\n",
      "./trip_data/sampled/yellow_tripdata_2011-11.csv\n",
      "./trip_data/sampled/yellow_tripdata_2011-07.csv\n",
      "./trip_data/sampled/yellow_tripdata_2013-02.csv\n",
      "./trip_data/sampled/yellow_tripdata_2013-03.csv\n",
      "./trip_data/sampled/yellow_tripdata_2011-12.csv\n",
      "./trip_data/sampled/yellow_tripdata_2011-06.csv\n",
      "./trip_data/sampled/yellow_tripdata_2014-07.csv\n",
      "./trip_data/sampled/yellow_tripdata_2014-06.csv\n",
      "./trip_data/sampled/yellow_tripdata_2014-12.csv\n",
      "./trip_data/sampled/yellow_tripdata_2011-08.csv\n",
      "./trip_data/sampled/yellow_tripdata_2014-04.csv\n",
      "./trip_data/sampled/yellow_tripdata_2014-10.csv\n",
      "./trip_data/sampled/yellow_tripdata_2014-11.csv\n",
      "./trip_data/sampled/yellow_tripdata_2014-05.csv\n",
      "./trip_data/sampled/yellow_tripdata_2011-09.csv\n",
      "./trip_data/sampled/yellow_tripdata_2013-08.csv\n",
      "./trip_data/sampled/yellow_tripdata_2014-01.csv\n",
      "./trip_data/sampled/yellow_tripdata_2013-09.csv\n",
      "./trip_data/sampled/yellow_tripdata_2014-02.csv\n",
      "./trip_data/sampled/yellow_tripdata_2014-03.csv\n",
      "./trip_data/sampled/yellow_tripdata_2012-11.csv\n",
      "./trip_data/sampled/yellow_tripdata_2012-05.csv\n",
      "./trip_data/sampled/yellow_tripdata_2009-09.csv\n",
      "./trip_data/sampled/yellow_tripdata_2010-01.csv\n",
      "./trip_data/sampled/yellow_tripdata_2009-08.csv\n",
      "./trip_data/sampled/yellow_tripdata_2012-04.csv\n",
      "./trip_data/sampled/yellow_tripdata_2012-10.csv\n",
      "./trip_data/sampled/yellow_tripdata_2012-06.csv\n",
      "./trip_data/sampled/yellow_tripdata_2012-12.csv\n",
      "./trip_data/sampled/yellow_tripdata_2010-03.csv\n",
      "./trip_data/sampled/yellow_tripdata_2010-02.csv\n",
      "./trip_data/sampled/yellow_tripdata_2012-07.csv\n",
      "./trip_data/sampled/yellow_tripdata_2012-03.csv\n",
      "./trip_data/sampled/yellow_tripdata_2010-06.csv\n",
      "./trip_data/sampled/yellow_tripdata_2010-12.csv\n",
      "./trip_data/sampled/yellow_tripdata_2010-07.csv\n",
      "./trip_data/sampled/yellow_tripdata_2012-02.csv\n",
      "./trip_data/sampled/yellow_tripdata_2010-11.csv\n",
      "./trip_data/sampled/yellow_tripdata_2010-05.csv\n",
      "./trip_data/sampled/yellow_tripdata_2010-04.csv\n",
      "./trip_data/sampled/yellow_tripdata_2010-10.csv\n",
      "./trip_data/sampled/yellow_tripdata_2012-01.csv\n"
     ]
    }
   ],
   "source": [
    "all_files = glob.glob(\"./trip_data/sampled/*.csv\")\n",
    "\n",
    "li = []\n",
    "\n",
    "for filename in all_files:\n",
    "    df = pd.read_csv(filename)\n",
    "    df.columns = df.columns.str.strip()\n",
    "    try:\n",
    "        df = df[columns]\n",
    "    except:\n",
    "        try:\n",
    "            df = df[columns2]\n",
    "        except:\n",
    "            df = df[columns3]\n",
    "    df.columns = columns2\n",
    "    li.append(df)\n",
    "    \n",
    "df = pd.concat(li, axis=0, ignore_index=True)\n",
    "df = df[(df[\"pickup_longitude\"] > -74.242330) \n",
    "   & (df[\"pickup_longitude\"] < -73.717047) \n",
    "   & (df[\"pickup_latitude\"] > 40.560445) \n",
    "   & (df[\"pickup_latitude\"] < 40.908524)]\n",
    "df[\"pickup_datetime\"] = pd.to_datetime(df['pickup_datetime'])\n",
    "df[\"dayofweek\"] = df[\"pickup_datetime\"].dt.dayofweek\n",
    "df[\"year\"] = df[\"pickup_datetime\"].dt.year\n",
    "df[\"month\"] = df[\"pickup_datetime\"].dt.month\n",
    "df[\"day\"] = df[\"pickup_datetime\"].dt.day\n",
    "df[\"hour\"] = df[\"pickup_datetime\"].dt.hour\n",
    "df['distance'] = df.apply(calculate_dis, axis=1)\n",
    "yellow_cab = df"
   ]
  },
  {
   "cell_type": "markdown",
   "id": "572c030f",
   "metadata": {},
   "source": [
    "## Testing distance calculation"
   ]
  },
  {
   "cell_type": "code",
   "execution_count": 13,
   "id": "7a51d9c5",
   "metadata": {},
   "outputs": [
    {
     "name": "stdout",
     "output_type": "stream",
     "text": [
      "True\n",
      "True\n"
     ]
    }
   ],
   "source": [
    "# Test cases\n",
    "print(abs(calculate_dis(yellow_cab.iloc[0]) - 5.86) < 0.1)\n",
    "print(abs(calculate_dis(yellow_cab.iloc[1]) - 0.68) < 0.1)"
   ]
  },
  {
   "cell_type": "markdown",
   "id": "38d1216d",
   "metadata": {},
   "source": [
    "# Part 2. Storing Data"
   ]
  },
  {
   "cell_type": "markdown",
   "id": "01616a77",
   "metadata": {},
   "source": [
    "### Yellow Cab"
   ]
  },
  {
   "cell_type": "code",
   "execution_count": 14,
   "id": "1667cb36",
   "metadata": {},
   "outputs": [],
   "source": [
    "with open(\"schema.sql\", \"w+\") as f:\n",
    "        f.write(pd.io.sql.get_schema(yellow_cab, 'YELLOW_CAB'))\n",
    "        f.write(';\\n\\n')"
   ]
  },
  {
   "cell_type": "markdown",
   "id": "3450f26b",
   "metadata": {},
   "source": [
    "### Weather data will be stored in daily and hourly formats"
   ]
  },
  {
   "cell_type": "code",
   "execution_count": 15,
   "id": "48a00b3d",
   "metadata": {},
   "outputs": [],
   "source": [
    "all_files = glob.glob(\"./weather/*.csv\")\n",
    "\n",
    "hourly_columns = [\"DATE\", \"NAME\", \"HourlyWindSpeed\", \"year\", \"month\", \"day\", \"hour\"]\n",
    "daily_columns = [\"DATE\", \"NAME\", \"DailyAverageWindSpeed\", \"year\", \"month\", \"day\"]\n",
    "\n",
    "hourly_df = []\n",
    "daily_df = []\n",
    "\n",
    "for filename in all_files:\n",
    "    df = pd.read_csv(filename, low_memory=False)\n",
    "    df[\"DATE\"] = pd.to_datetime(df['DATE'])\n",
    "    df[\"year\"] = df[\"DATE\"].dt.year\n",
    "    df[\"month\"] = df[\"DATE\"].dt.month\n",
    "    df[\"day\"] = df[\"DATE\"].dt.day\n",
    "    df[\"hour\"] = df[\"DATE\"].dt.hour\n",
    "    hourly = df[hourly_columns].dropna()\n",
    "    daily = df[daily_columns].dropna()\n",
    "    hourly_df.append(hourly)\n",
    "    daily_df.append(daily)\n",
    "    \n",
    "weather_hourly = pd.concat(hourly_df, axis=0, ignore_index=True)\n",
    "weather_daily = pd.concat(daily_df, axis=0, ignore_index=True)"
   ]
  },
  {
   "cell_type": "markdown",
   "id": "9a77d984",
   "metadata": {},
   "source": [
    "### Cleanup potential repeated data"
   ]
  },
  {
   "cell_type": "code",
   "execution_count": 16,
   "id": "4839540c",
   "metadata": {},
   "outputs": [],
   "source": [
    "weather_hourly = weather_hourly.groupby([\"year\", \"month\", \"day\", \"hour\"], as_index=False)[[\"year\", \"month\", \"day\", \"hour\", \"HourlyWindSpeed\"]].first()\n",
    "weather_daily = weather_daily.groupby([\"year\", \"month\", \"day\"], as_index=False)[[\"year\", \"month\", \"day\", \"DailyAverageWindSpeed\"]].first()"
   ]
  },
  {
   "cell_type": "code",
   "execution_count": 17,
   "id": "7646f4c8",
   "metadata": {},
   "outputs": [],
   "source": [
    "with open(\"schema.sql\", \"a\") as f:\n",
    "        f.write(pd.io.sql.get_schema(weather_hourly, 'WEATHER_HOURLY'))\n",
    "        f.write(';\\n\\n')\n",
    "\n",
    "        f.write(pd.io.sql.get_schema(weather_daily, 'WEATHER_DAILY'))\n",
    "        f.write(';\\n\\n')"
   ]
  },
  {
   "cell_type": "markdown",
   "id": "29b42b68",
   "metadata": {},
   "source": [
    "### Uber data"
   ]
  },
  {
   "cell_type": "code",
   "execution_count": 18,
   "id": "8c8d3d6a",
   "metadata": {},
   "outputs": [],
   "source": [
    "df = pd.read_csv(\"./uber_rides_sample.csv\")\n",
    "uber_cols = [\"pickup_datetime\", \n",
    "           \"pickup_longitude\", \n",
    "           \"pickup_latitude\", \n",
    "           \"dropoff_longitude\", \n",
    "           \"dropoff_latitude\",\n",
    "           \"fare_amount\"]\n",
    "df = df[uber_cols]\n",
    "df[\"pickup_datetime\"] = pd.to_datetime(df['pickup_datetime'])\n",
    "df[\"dayofweek\"] = df[\"pickup_datetime\"].dt.dayofweek\n",
    "df[\"year\"] = df[\"pickup_datetime\"].dt.year\n",
    "df[\"month\"] = df[\"pickup_datetime\"].dt.month\n",
    "df[\"day\"] = df[\"pickup_datetime\"].dt.day\n",
    "df[\"hour\"] = df[\"pickup_datetime\"].dt.hour\n",
    "df['distance'] = df.apply(calculate_dis, axis=1)\n",
    "\n",
    "df = df[(df[\"pickup_longitude\"] > -74.242330) \n",
    "   & (df[\"pickup_longitude\"] < -73.717047) \n",
    "   & (df[\"pickup_latitude\"] > 40.560445) \n",
    "   & (df[\"pickup_latitude\"] < 40.908524)]\n",
    "\n",
    "uber = df"
   ]
  },
  {
   "cell_type": "code",
   "execution_count": 19,
   "id": "88d0ceef",
   "metadata": {},
   "outputs": [],
   "source": [
    "with open(\"schema.sql\", \"a\") as f:\n",
    "        f.write(pd.io.sql.get_schema(uber, 'UBER'))\n",
    "        f.write(';\\n\\n')"
   ]
  },
  {
   "cell_type": "markdown",
   "id": "ba1c6cf2",
   "metadata": {},
   "source": [
    "We store all rides in another table"
   ]
  },
  {
   "cell_type": "code",
   "execution_count": 20,
   "id": "8ad29130",
   "metadata": {},
   "outputs": [],
   "source": [
    "all_rides = pd.concat([yellow_cab, uber], axis=0, ignore_index=True)\n",
    "\n",
    "sql_query = \"\"\"\n",
    "CREATE TABLE \"ALL_RIDES\" (\n",
    "    SELECT *\n",
    "    FROM uber \n",
    "    UNION \n",
    "    SELECT * \n",
    "    FROM yellow_cab)\n",
    "\"\"\""
   ]
  },
  {
   "cell_type": "markdown",
   "id": "82d585e1",
   "metadata": {},
   "source": [
    "### Sanity check:"
   ]
  },
  {
   "cell_type": "code",
   "execution_count": 21,
   "id": "f4f234a9",
   "metadata": {},
   "outputs": [],
   "source": [
    "!sqlite3 hello.db < schema.sql"
   ]
  },
  {
   "cell_type": "markdown",
   "id": "cf41aef4",
   "metadata": {},
   "source": [
    "## 1. For 01-2009 through 06-2015, what hour of the day was the most popular to take a Yellow Taxi? The result should have 24 bins.\n",
    "\n",
    "7PM is the most popular to take a yellow taxi. In general, 7PM to 11 PM is the most popular hour to take yellow taxi."
   ]
  },
  {
   "cell_type": "code",
   "execution_count": 22,
   "id": "1f93a671",
   "metadata": {},
   "outputs": [
    {
     "data": {
      "text/html": [
       "<div>\n",
       "<style scoped>\n",
       "    .dataframe tbody tr th:only-of-type {\n",
       "        vertical-align: middle;\n",
       "    }\n",
       "\n",
       "    .dataframe tbody tr th {\n",
       "        vertical-align: top;\n",
       "    }\n",
       "\n",
       "    .dataframe thead th {\n",
       "        text-align: right;\n",
       "    }\n",
       "</style>\n",
       "<table border=\"1\" class=\"dataframe\">\n",
       "  <thead>\n",
       "    <tr style=\"text-align: right;\">\n",
       "      <th></th>\n",
       "      <th>HOUR</th>\n",
       "      <th>RIDES</th>\n",
       "    </tr>\n",
       "  </thead>\n",
       "  <tbody>\n",
       "    <tr>\n",
       "      <th>0</th>\n",
       "      <td>20</td>\n",
       "      <td>68217</td>\n",
       "    </tr>\n",
       "    <tr>\n",
       "      <th>1</th>\n",
       "      <td>19</td>\n",
       "      <td>65330</td>\n",
       "    </tr>\n",
       "    <tr>\n",
       "      <th>2</th>\n",
       "      <td>21</td>\n",
       "      <td>63598</td>\n",
       "    </tr>\n",
       "    <tr>\n",
       "      <th>3</th>\n",
       "      <td>22</td>\n",
       "      <td>62530</td>\n",
       "    </tr>\n",
       "    <tr>\n",
       "      <th>4</th>\n",
       "      <td>23</td>\n",
       "      <td>60291</td>\n",
       "    </tr>\n",
       "    <tr>\n",
       "      <th>5</th>\n",
       "      <td>15</td>\n",
       "      <td>54715</td>\n",
       "    </tr>\n",
       "    <tr>\n",
       "      <th>6</th>\n",
       "      <td>24</td>\n",
       "      <td>54099</td>\n",
       "    </tr>\n",
       "    <tr>\n",
       "      <th>7</th>\n",
       "      <td>13</td>\n",
       "      <td>53772</td>\n",
       "    </tr>\n",
       "    <tr>\n",
       "      <th>8</th>\n",
       "      <td>18</td>\n",
       "      <td>53626</td>\n",
       "    </tr>\n",
       "    <tr>\n",
       "      <th>9</th>\n",
       "      <td>14</td>\n",
       "      <td>53100</td>\n",
       "    </tr>\n",
       "    <tr>\n",
       "      <th>10</th>\n",
       "      <td>16</td>\n",
       "      <td>52216</td>\n",
       "    </tr>\n",
       "    <tr>\n",
       "      <th>11</th>\n",
       "      <td>10</td>\n",
       "      <td>50906</td>\n",
       "    </tr>\n",
       "    <tr>\n",
       "      <th>12</th>\n",
       "      <td>12</td>\n",
       "      <td>50853</td>\n",
       "    </tr>\n",
       "    <tr>\n",
       "      <th>13</th>\n",
       "      <td>9</td>\n",
       "      <td>49459</td>\n",
       "    </tr>\n",
       "    <tr>\n",
       "      <th>14</th>\n",
       "      <td>11</td>\n",
       "      <td>49125</td>\n",
       "    </tr>\n",
       "    <tr>\n",
       "      <th>15</th>\n",
       "      <td>17</td>\n",
       "      <td>44979</td>\n",
       "    </tr>\n",
       "    <tr>\n",
       "      <th>16</th>\n",
       "      <td>1</td>\n",
       "      <td>43050</td>\n",
       "    </tr>\n",
       "    <tr>\n",
       "      <th>17</th>\n",
       "      <td>8</td>\n",
       "      <td>39295</td>\n",
       "    </tr>\n",
       "    <tr>\n",
       "      <th>18</th>\n",
       "      <td>2</td>\n",
       "      <td>32018</td>\n",
       "    </tr>\n",
       "    <tr>\n",
       "      <th>19</th>\n",
       "      <td>3</td>\n",
       "      <td>23768</td>\n",
       "    </tr>\n",
       "    <tr>\n",
       "      <th>20</th>\n",
       "      <td>7</td>\n",
       "      <td>22019</td>\n",
       "    </tr>\n",
       "    <tr>\n",
       "      <th>21</th>\n",
       "      <td>4</td>\n",
       "      <td>17362</td>\n",
       "    </tr>\n",
       "    <tr>\n",
       "      <th>22</th>\n",
       "      <td>5</td>\n",
       "      <td>12470</td>\n",
       "    </tr>\n",
       "    <tr>\n",
       "      <th>23</th>\n",
       "      <td>6</td>\n",
       "      <td>10627</td>\n",
       "    </tr>\n",
       "  </tbody>\n",
       "</table>\n",
       "</div>"
      ],
      "text/plain": [
       "    HOUR  RIDES\n",
       "0     20  68217\n",
       "1     19  65330\n",
       "2     21  63598\n",
       "3     22  62530\n",
       "4     23  60291\n",
       "5     15  54715\n",
       "6     24  54099\n",
       "7     13  53772\n",
       "8     18  53626\n",
       "9     14  53100\n",
       "10    16  52216\n",
       "11    10  50906\n",
       "12    12  50853\n",
       "13     9  49459\n",
       "14    11  49125\n",
       "15    17  44979\n",
       "16     1  43050\n",
       "17     8  39295\n",
       "18     2  32018\n",
       "19     3  23768\n",
       "20     7  22019\n",
       "21     4  17362\n",
       "22     5  12470\n",
       "23     6  10627"
      ]
     },
     "execution_count": 22,
     "metadata": {},
     "output_type": "execute_result"
    }
   ],
   "source": [
    "query = \"SELECT HOUR + 1 AS HOUR, COUNT(*) AS RIDES FROM yellow_cab GROUP BY hour ORDER BY RIDES DESC;\"\n",
    "q1 = sqldf(query)\n",
    "q1"
   ]
  },
  {
   "cell_type": "code",
   "execution_count": 23,
   "id": "bb0a65d3",
   "metadata": {},
   "outputs": [],
   "source": [
    "with open(\"most_popular_yellow_cab_hours.sql\", \"w+\") as f:\n",
    "        f.write(query)\n",
    "        f.write('\\n')"
   ]
  },
  {
   "cell_type": "markdown",
   "id": "f2af5d9f",
   "metadata": {},
   "source": [
    "## 2. For the same time frame, what day of the week was the most popular to take an Uber? The result should have 7 bins.\n",
    "\n",
    "Friday is the most popular day to take an uber."
   ]
  },
  {
   "cell_type": "code",
   "execution_count": 24,
   "id": "3145eb1a",
   "metadata": {},
   "outputs": [
    {
     "data": {
      "text/html": [
       "<div>\n",
       "<style scoped>\n",
       "    .dataframe tbody tr th:only-of-type {\n",
       "        vertical-align: middle;\n",
       "    }\n",
       "\n",
       "    .dataframe tbody tr th {\n",
       "        vertical-align: top;\n",
       "    }\n",
       "\n",
       "    .dataframe thead th {\n",
       "        text-align: right;\n",
       "    }\n",
       "</style>\n",
       "<table border=\"1\" class=\"dataframe\">\n",
       "  <thead>\n",
       "    <tr style=\"text-align: right;\">\n",
       "      <th></th>\n",
       "      <th>WEEKDAY</th>\n",
       "      <th>RIDES</th>\n",
       "    </tr>\n",
       "  </thead>\n",
       "  <tbody>\n",
       "    <tr>\n",
       "      <th>0</th>\n",
       "      <td>5</td>\n",
       "      <td>30223</td>\n",
       "    </tr>\n",
       "    <tr>\n",
       "      <th>1</th>\n",
       "      <td>6</td>\n",
       "      <td>29643</td>\n",
       "    </tr>\n",
       "    <tr>\n",
       "      <th>2</th>\n",
       "      <td>4</td>\n",
       "      <td>29389</td>\n",
       "    </tr>\n",
       "    <tr>\n",
       "      <th>3</th>\n",
       "      <td>3</td>\n",
       "      <td>28381</td>\n",
       "    </tr>\n",
       "    <tr>\n",
       "      <th>4</th>\n",
       "      <td>2</td>\n",
       "      <td>27579</td>\n",
       "    </tr>\n",
       "    <tr>\n",
       "      <th>5</th>\n",
       "      <td>7</td>\n",
       "      <td>25877</td>\n",
       "    </tr>\n",
       "    <tr>\n",
       "      <th>6</th>\n",
       "      <td>1</td>\n",
       "      <td>24733</td>\n",
       "    </tr>\n",
       "  </tbody>\n",
       "</table>\n",
       "</div>"
      ],
      "text/plain": [
       "   WEEKDAY  RIDES\n",
       "0        5  30223\n",
       "1        6  29643\n",
       "2        4  29389\n",
       "3        3  28381\n",
       "4        2  27579\n",
       "5        7  25877\n",
       "6        1  24733"
      ]
     },
     "execution_count": 24,
     "metadata": {},
     "output_type": "execute_result"
    }
   ],
   "source": [
    "query = \"SELECT dayofweek + 1 AS WEEKDAY, COUNT(*) AS RIDES FROM uber GROUP BY dayofweek ORDER BY RIDES DESC;\"\n",
    "q2 = sqldf(query)\n",
    "q2"
   ]
  },
  {
   "cell_type": "code",
   "execution_count": 25,
   "id": "2480f975",
   "metadata": {},
   "outputs": [],
   "source": [
    "with open(\"most_popular_uber_weekday.sql\", \"w+\") as f:\n",
    "        f.write(query)\n",
    "        f.write('\\n')"
   ]
  },
  {
   "cell_type": "markdown",
   "id": "c23fade7",
   "metadata": {},
   "source": [
    "## 3. What is the 95% percentile of distance traveled for all hired trips during July 2013?\n",
    "The 95% percentile is about 10.5 miles."
   ]
  },
  {
   "cell_type": "code",
   "execution_count": 26,
   "id": "3af545c2",
   "metadata": {},
   "outputs": [
    {
     "data": {
      "text/html": [
       "<div>\n",
       "<style scoped>\n",
       "    .dataframe tbody tr th:only-of-type {\n",
       "        vertical-align: middle;\n",
       "    }\n",
       "\n",
       "    .dataframe tbody tr th {\n",
       "        vertical-align: top;\n",
       "    }\n",
       "\n",
       "    .dataframe thead th {\n",
       "        text-align: right;\n",
       "    }\n",
       "</style>\n",
       "<table border=\"1\" class=\"dataframe\">\n",
       "  <thead>\n",
       "    <tr style=\"text-align: right;\">\n",
       "      <th></th>\n",
       "      <th>distance 95% percentile</th>\n",
       "    </tr>\n",
       "  </thead>\n",
       "  <tbody>\n",
       "    <tr>\n",
       "      <th>0</th>\n",
       "      <td>10.65043</td>\n",
       "    </tr>\n",
       "  </tbody>\n",
       "</table>\n",
       "</div>"
      ],
      "text/plain": [
       "   distance 95% percentile\n",
       "0                 10.65043"
      ]
     },
     "execution_count": 26,
     "metadata": {},
     "output_type": "execute_result"
    }
   ],
   "source": [
    "query = \"\"\"\n",
    "SELECT distance AS 'distance 95% percentile'\n",
    "FROM all_rides\n",
    "WHERE year = 2013 AND month = 7\n",
    "ORDER BY distance ASC\n",
    "LIMIT 1\n",
    "OFFSET (\n",
    "SELECT CAST(COUNT(distance)*9.5/10-1 AS INT) FROM all_rides WHERE year = 2013 AND month = 7);\n",
    "\"\"\"\n",
    "q3 = sqldf(query)\n",
    "q3"
   ]
  },
  {
   "cell_type": "code",
   "execution_count": 27,
   "id": "c6fdcb59",
   "metadata": {},
   "outputs": [],
   "source": [
    "with open(\"95_percentile_of_distance_in_2013-07.sql\", \"w+\") as f:\n",
    "        f.write(query)\n",
    "        f.write('\\n')"
   ]
  },
  {
   "cell_type": "markdown",
   "id": "3d28011c",
   "metadata": {},
   "source": [
    "## 4. What were the top 10 days with the highest number of hired rides for 2009, and what was the average distance for each day?\n",
    "The top 10 days are:\n",
    "Dec 11, Oct 9, Oct 23, Nov 5, Jun 19, Jun 5, Dec 4, Apr 18, Dec 17, Dec 18"
   ]
  },
  {
   "cell_type": "code",
   "execution_count": 28,
   "id": "6f2caaf5",
   "metadata": {},
   "outputs": [
    {
     "data": {
      "text/html": [
       "<div>\n",
       "<style scoped>\n",
       "    .dataframe tbody tr th:only-of-type {\n",
       "        vertical-align: middle;\n",
       "    }\n",
       "\n",
       "    .dataframe tbody tr th {\n",
       "        vertical-align: top;\n",
       "    }\n",
       "\n",
       "    .dataframe thead th {\n",
       "        text-align: right;\n",
       "    }\n",
       "</style>\n",
       "<table border=\"1\" class=\"dataframe\">\n",
       "  <thead>\n",
       "    <tr style=\"text-align: right;\">\n",
       "      <th></th>\n",
       "      <th>year</th>\n",
       "      <th>month</th>\n",
       "      <th>day</th>\n",
       "      <th>num_rides</th>\n",
       "      <th>avg_distance</th>\n",
       "    </tr>\n",
       "  </thead>\n",
       "  <tbody>\n",
       "    <tr>\n",
       "      <th>0</th>\n",
       "      <td>2009</td>\n",
       "      <td>12</td>\n",
       "      <td>11</td>\n",
       "      <td>699</td>\n",
       "      <td>3.048223</td>\n",
       "    </tr>\n",
       "    <tr>\n",
       "      <th>1</th>\n",
       "      <td>2009</td>\n",
       "      <td>10</td>\n",
       "      <td>9</td>\n",
       "      <td>686</td>\n",
       "      <td>3.194147</td>\n",
       "    </tr>\n",
       "    <tr>\n",
       "      <th>2</th>\n",
       "      <td>2009</td>\n",
       "      <td>10</td>\n",
       "      <td>23</td>\n",
       "      <td>683</td>\n",
       "      <td>2.958394</td>\n",
       "    </tr>\n",
       "    <tr>\n",
       "      <th>3</th>\n",
       "      <td>2009</td>\n",
       "      <td>11</td>\n",
       "      <td>5</td>\n",
       "      <td>668</td>\n",
       "      <td>3.353593</td>\n",
       "    </tr>\n",
       "    <tr>\n",
       "      <th>4</th>\n",
       "      <td>2009</td>\n",
       "      <td>6</td>\n",
       "      <td>19</td>\n",
       "      <td>664</td>\n",
       "      <td>3.086843</td>\n",
       "    </tr>\n",
       "    <tr>\n",
       "      <th>5</th>\n",
       "      <td>2009</td>\n",
       "      <td>6</td>\n",
       "      <td>5</td>\n",
       "      <td>661</td>\n",
       "      <td>2.918472</td>\n",
       "    </tr>\n",
       "    <tr>\n",
       "      <th>6</th>\n",
       "      <td>2009</td>\n",
       "      <td>12</td>\n",
       "      <td>4</td>\n",
       "      <td>659</td>\n",
       "      <td>2.968141</td>\n",
       "    </tr>\n",
       "    <tr>\n",
       "      <th>7</th>\n",
       "      <td>2009</td>\n",
       "      <td>4</td>\n",
       "      <td>18</td>\n",
       "      <td>656</td>\n",
       "      <td>3.496545</td>\n",
       "    </tr>\n",
       "    <tr>\n",
       "      <th>8</th>\n",
       "      <td>2009</td>\n",
       "      <td>12</td>\n",
       "      <td>17</td>\n",
       "      <td>654</td>\n",
       "      <td>2.976962</td>\n",
       "    </tr>\n",
       "    <tr>\n",
       "      <th>9</th>\n",
       "      <td>2009</td>\n",
       "      <td>12</td>\n",
       "      <td>5</td>\n",
       "      <td>652</td>\n",
       "      <td>3.125626</td>\n",
       "    </tr>\n",
       "  </tbody>\n",
       "</table>\n",
       "</div>"
      ],
      "text/plain": [
       "   year  month  day  num_rides  avg_distance\n",
       "0  2009     12   11        699      3.048223\n",
       "1  2009     10    9        686      3.194147\n",
       "2  2009     10   23        683      2.958394\n",
       "3  2009     11    5        668      3.353593\n",
       "4  2009      6   19        664      3.086843\n",
       "5  2009      6    5        661      2.918472\n",
       "6  2009     12    4        659      2.968141\n",
       "7  2009      4   18        656      3.496545\n",
       "8  2009     12   17        654      2.976962\n",
       "9  2009     12    5        652      3.125626"
      ]
     },
     "execution_count": 28,
     "metadata": {},
     "output_type": "execute_result"
    }
   ],
   "source": [
    "query = \"\"\"\n",
    "SELECT year, month, day, COUNT(*) AS num_rides, AVG(distance) as avg_distance\n",
    "FROM all_rides\n",
    "WHERE year = 2009\n",
    "GROUP BY month, day\n",
    "ORDER BY num_rides DESC\n",
    "LIMIT 10\n",
    "\"\"\"\n",
    "q4 = sqldf(query)\n",
    "q4"
   ]
  },
  {
   "cell_type": "code",
   "execution_count": 29,
   "id": "fd77e62c",
   "metadata": {},
   "outputs": [],
   "source": [
    "with open(\"top_10_days.sql\", \"w+\") as f:\n",
    "        f.write(query)\n",
    "        f.write('\\n')"
   ]
  },
  {
   "cell_type": "markdown",
   "id": "b6332f21",
   "metadata": {},
   "source": [
    "## 5. Which 10 days in 2014 were the windiest on average, and how many hired trips were made on those days?\n",
    "Please see the below query result for top 10 windiest day and number of rides."
   ]
  },
  {
   "cell_type": "code",
   "execution_count": 30,
   "id": "e124a401",
   "metadata": {},
   "outputs": [
    {
     "data": {
      "text/html": [
       "<div>\n",
       "<style scoped>\n",
       "    .dataframe tbody tr th:only-of-type {\n",
       "        vertical-align: middle;\n",
       "    }\n",
       "\n",
       "    .dataframe tbody tr th {\n",
       "        vertical-align: top;\n",
       "    }\n",
       "\n",
       "    .dataframe thead th {\n",
       "        text-align: right;\n",
       "    }\n",
       "</style>\n",
       "<table border=\"1\" class=\"dataframe\">\n",
       "  <thead>\n",
       "    <tr style=\"text-align: right;\">\n",
       "      <th></th>\n",
       "      <th>year</th>\n",
       "      <th>month</th>\n",
       "      <th>day</th>\n",
       "      <th>windSpeed</th>\n",
       "      <th>num_rides</th>\n",
       "    </tr>\n",
       "  </thead>\n",
       "  <tbody>\n",
       "    <tr>\n",
       "      <th>0</th>\n",
       "      <td>2014</td>\n",
       "      <td>3</td>\n",
       "      <td>13</td>\n",
       "      <td>14.1</td>\n",
       "      <td>4136</td>\n",
       "    </tr>\n",
       "    <tr>\n",
       "      <th>1</th>\n",
       "      <td>2014</td>\n",
       "      <td>1</td>\n",
       "      <td>7</td>\n",
       "      <td>13.1</td>\n",
       "      <td>3688</td>\n",
       "    </tr>\n",
       "    <tr>\n",
       "      <th>2</th>\n",
       "      <td>2014</td>\n",
       "      <td>2</td>\n",
       "      <td>13</td>\n",
       "      <td>12.6</td>\n",
       "      <td>3907</td>\n",
       "    </tr>\n",
       "    <tr>\n",
       "      <th>3</th>\n",
       "      <td>2014</td>\n",
       "      <td>1</td>\n",
       "      <td>2</td>\n",
       "      <td>12.2</td>\n",
       "      <td>2789</td>\n",
       "    </tr>\n",
       "    <tr>\n",
       "      <th>4</th>\n",
       "      <td>2014</td>\n",
       "      <td>3</td>\n",
       "      <td>26</td>\n",
       "      <td>11.9</td>\n",
       "      <td>4032</td>\n",
       "    </tr>\n",
       "    <tr>\n",
       "      <th>5</th>\n",
       "      <td>2014</td>\n",
       "      <td>12</td>\n",
       "      <td>7</td>\n",
       "      <td>11.8</td>\n",
       "      <td>3456</td>\n",
       "    </tr>\n",
       "    <tr>\n",
       "      <th>6</th>\n",
       "      <td>2014</td>\n",
       "      <td>12</td>\n",
       "      <td>8</td>\n",
       "      <td>11.5</td>\n",
       "      <td>3445</td>\n",
       "    </tr>\n",
       "    <tr>\n",
       "      <th>7</th>\n",
       "      <td>2014</td>\n",
       "      <td>3</td>\n",
       "      <td>29</td>\n",
       "      <td>10.8</td>\n",
       "      <td>3980</td>\n",
       "    </tr>\n",
       "    <tr>\n",
       "      <th>8</th>\n",
       "      <td>2014</td>\n",
       "      <td>11</td>\n",
       "      <td>2</td>\n",
       "      <td>10.8</td>\n",
       "      <td>3188</td>\n",
       "    </tr>\n",
       "    <tr>\n",
       "      <th>9</th>\n",
       "      <td>2014</td>\n",
       "      <td>1</td>\n",
       "      <td>3</td>\n",
       "      <td>10.4</td>\n",
       "      <td>3245</td>\n",
       "    </tr>\n",
       "  </tbody>\n",
       "</table>\n",
       "</div>"
      ],
      "text/plain": [
       "   year  month  day  windSpeed  num_rides\n",
       "0  2014      3   13       14.1       4136\n",
       "1  2014      1    7       13.1       3688\n",
       "2  2014      2   13       12.6       3907\n",
       "3  2014      1    2       12.2       2789\n",
       "4  2014      3   26       11.9       4032\n",
       "5  2014     12    7       11.8       3456\n",
       "6  2014     12    8       11.5       3445\n",
       "7  2014      3   29       10.8       3980\n",
       "8  2014     11    2       10.8       3188\n",
       "9  2014      1    3       10.4       3245"
      ]
     },
     "execution_count": 30,
     "metadata": {},
     "output_type": "execute_result"
    }
   ],
   "source": [
    "query = \"\"\"\n",
    "SELECT w.year, w.month, w.day, DailyAverageWindSpeed as windSpeed, COUNT(*) as num_rides\n",
    "FROM weather_daily w\n",
    "JOIN all_rides a\n",
    "  ON w.month = a.month AND w.day = a.day\n",
    "WHERE w.year = 2014\n",
    "GROUP BY w.month, w.day\n",
    "ORDER BY DailyAverageWindSpeed DESC\n",
    "LIMIT 10\n",
    "\"\"\"\n",
    "q5 = sqldf(query)\n",
    "q5"
   ]
  },
  {
   "cell_type": "code",
   "execution_count": 31,
   "id": "648b8062",
   "metadata": {},
   "outputs": [],
   "source": [
    "with open(\"top_10_windiest.sql\", \"w+\") as f:\n",
    "        f.write(query)\n",
    "        f.write('\\n')"
   ]
  },
  {
   "cell_type": "markdown",
   "id": "0d890899",
   "metadata": {},
   "source": [
    "## 6. During Hurricane Sandy in NYC (Oct 29-30, 2012), plus the week leading up and the week after, how many trips were taken each hour, and for each hour, how much precipitation did NYC receive and what was the sustained wind speed? There should be an entry for every single hour, even if no rides were taken, no precipitation was measured, or there was no wind.\n",
    "\n",
    "We query the data from Oct 22 to Nov 6, 2012"
   ]
  },
  {
   "cell_type": "code",
   "execution_count": 32,
   "id": "b5e1d0a0",
   "metadata": {},
   "outputs": [
    {
     "data": {
      "text/html": [
       "<div>\n",
       "<style scoped>\n",
       "    .dataframe tbody tr th:only-of-type {\n",
       "        vertical-align: middle;\n",
       "    }\n",
       "\n",
       "    .dataframe tbody tr th {\n",
       "        vertical-align: top;\n",
       "    }\n",
       "\n",
       "    .dataframe thead th {\n",
       "        text-align: right;\n",
       "    }\n",
       "</style>\n",
       "<table border=\"1\" class=\"dataframe\">\n",
       "  <thead>\n",
       "    <tr style=\"text-align: right;\">\n",
       "      <th></th>\n",
       "      <th>year</th>\n",
       "      <th>month</th>\n",
       "      <th>day</th>\n",
       "      <th>hour</th>\n",
       "      <th>HourlyWindSpeed</th>\n",
       "      <th>num_rides</th>\n",
       "    </tr>\n",
       "  </thead>\n",
       "  <tbody>\n",
       "    <tr>\n",
       "      <th>0</th>\n",
       "      <td>2012</td>\n",
       "      <td>10</td>\n",
       "      <td>22</td>\n",
       "      <td>0</td>\n",
       "      <td>7.0</td>\n",
       "      <td>13</td>\n",
       "    </tr>\n",
       "    <tr>\n",
       "      <th>1</th>\n",
       "      <td>2012</td>\n",
       "      <td>10</td>\n",
       "      <td>22</td>\n",
       "      <td>1</td>\n",
       "      <td>5.0</td>\n",
       "      <td>8</td>\n",
       "    </tr>\n",
       "    <tr>\n",
       "      <th>2</th>\n",
       "      <td>2012</td>\n",
       "      <td>10</td>\n",
       "      <td>22</td>\n",
       "      <td>2</td>\n",
       "      <td>7.0</td>\n",
       "      <td>5</td>\n",
       "    </tr>\n",
       "    <tr>\n",
       "      <th>3</th>\n",
       "      <td>2012</td>\n",
       "      <td>10</td>\n",
       "      <td>22</td>\n",
       "      <td>3</td>\n",
       "      <td>0.0</td>\n",
       "      <td>3</td>\n",
       "    </tr>\n",
       "    <tr>\n",
       "      <th>4</th>\n",
       "      <td>2012</td>\n",
       "      <td>10</td>\n",
       "      <td>22</td>\n",
       "      <td>4</td>\n",
       "      <td>0.0</td>\n",
       "      <td>4</td>\n",
       "    </tr>\n",
       "    <tr>\n",
       "      <th>...</th>\n",
       "      <td>...</td>\n",
       "      <td>...</td>\n",
       "      <td>...</td>\n",
       "      <td>...</td>\n",
       "      <td>...</td>\n",
       "      <td>...</td>\n",
       "    </tr>\n",
       "    <tr>\n",
       "      <th>354</th>\n",
       "      <td>2012</td>\n",
       "      <td>11</td>\n",
       "      <td>6</td>\n",
       "      <td>19</td>\n",
       "      <td>3.0</td>\n",
       "      <td>38</td>\n",
       "    </tr>\n",
       "    <tr>\n",
       "      <th>355</th>\n",
       "      <td>2012</td>\n",
       "      <td>11</td>\n",
       "      <td>6</td>\n",
       "      <td>20</td>\n",
       "      <td>7.0</td>\n",
       "      <td>27</td>\n",
       "    </tr>\n",
       "    <tr>\n",
       "      <th>356</th>\n",
       "      <td>2012</td>\n",
       "      <td>11</td>\n",
       "      <td>6</td>\n",
       "      <td>21</td>\n",
       "      <td>7.0</td>\n",
       "      <td>36</td>\n",
       "    </tr>\n",
       "    <tr>\n",
       "      <th>357</th>\n",
       "      <td>2012</td>\n",
       "      <td>11</td>\n",
       "      <td>6</td>\n",
       "      <td>22</td>\n",
       "      <td>7.0</td>\n",
       "      <td>27</td>\n",
       "    </tr>\n",
       "    <tr>\n",
       "      <th>358</th>\n",
       "      <td>2012</td>\n",
       "      <td>11</td>\n",
       "      <td>6</td>\n",
       "      <td>23</td>\n",
       "      <td>3.0</td>\n",
       "      <td>27</td>\n",
       "    </tr>\n",
       "  </tbody>\n",
       "</table>\n",
       "<p>359 rows × 6 columns</p>\n",
       "</div>"
      ],
      "text/plain": [
       "     year  month  day  hour  HourlyWindSpeed  num_rides\n",
       "0    2012     10   22     0              7.0         13\n",
       "1    2012     10   22     1              5.0          8\n",
       "2    2012     10   22     2              7.0          5\n",
       "3    2012     10   22     3              0.0          3\n",
       "4    2012     10   22     4              0.0          4\n",
       "..    ...    ...  ...   ...              ...        ...\n",
       "354  2012     11    6    19              3.0         38\n",
       "355  2012     11    6    20              7.0         27\n",
       "356  2012     11    6    21              7.0         36\n",
       "357  2012     11    6    22              7.0         27\n",
       "358  2012     11    6    23              3.0         27\n",
       "\n",
       "[359 rows x 6 columns]"
      ]
     },
     "execution_count": 32,
     "metadata": {},
     "output_type": "execute_result"
    }
   ],
   "source": [
    "query = \"\"\"\n",
    "SELECT w.year, w.month, w.day, w.hour, HourlyWindSpeed, COUNT(*) as num_rides\n",
    "FROM weather_hourly w\n",
    "JOIN all_rides a \n",
    "ON w.year = a.year AND w.month = a.month AND w.day = a.day AND w.hour = a.hour\n",
    "WHERE \n",
    "    w.year = 2012 AND ((w.month = 10 AND w.day >= 22) OR (w.month = 11 AND w.day <= 6))\n",
    "GROUP BY w.month, w.day, w.hour\n",
    "\"\"\"\n",
    "q6 = sqldf(query)\n",
    "q6"
   ]
  },
  {
   "cell_type": "code",
   "execution_count": 33,
   "id": "0a85f4e9",
   "metadata": {},
   "outputs": [],
   "source": [
    "with open(\"hurricane_sandy.sql\", \"w+\") as f:\n",
    "        f.write(query)\n",
    "        f.write('\\n')"
   ]
  },
  {
   "cell_type": "markdown",
   "id": "5fe861f0",
   "metadata": {},
   "source": [
    "# Part 4 Visualization"
   ]
  },
  {
   "cell_type": "markdown",
   "id": "512a83e6",
   "metadata": {},
   "source": [
    "## 1. Create an appropriate visualization for the first query/question in part 3.\n"
   ]
  },
  {
   "cell_type": "markdown",
   "id": "c49284b2",
   "metadata": {},
   "source": [
    "We can visualize the number of rides within a day to see the trend of popularity of the yellow taxi."
   ]
  },
  {
   "cell_type": "code",
   "execution_count": 34,
   "id": "e110d4ce",
   "metadata": {},
   "outputs": [
    {
     "data": {
      "text/plain": [
       "[<matplotlib.lines.Line2D at 0x7fe9ee00ef70>]"
      ]
     },
     "execution_count": 34,
     "metadata": {},
     "output_type": "execute_result"
    },
    {
     "data": {
      "image/png": "[encoded data removed]",
      "text/plain": [
       "<Figure size 432x288 with 1 Axes>"
      ]
     },
     "metadata": {
      "needs_background": "light"
     },
     "output_type": "display_data"
    }
   ],
   "source": [
    "plt.title(\"Number of Rides in Each Hour\")\n",
    "plt.xlabel(\"Hour\")\n",
    "plt.ylabel(\"Number of Rides\")\n",
    "data = q1.sort_values(\"HOUR\")\n",
    "plt.plot(data[\"HOUR\"], data[\"RIDES\"])"
   ]
  },
  {
   "cell_type": "markdown",
   "id": "2b911efc",
   "metadata": {},
   "source": [
    "## 2. Create a visualization that shows the average distance traveled per month (regardless of year - so group by each month) for both taxis and Ubers combined. Include the 90% confidence interval around the mean in the visualization.\n"
   ]
  },
  {
   "cell_type": "code",
   "execution_count": 35,
   "id": "6cbaf95c",
   "metadata": {},
   "outputs": [],
   "source": [
    "query = \"\"\"\n",
    "SELECT \n",
    "    month, AVG(distance) AS ave_distance, \n",
    "    SQRT(AVG(distance*distance) - AVG(distance)*AVG(distance)) AS std,\n",
    "    COUNT(*) as count\n",
    "FROM all_rides\n",
    "GROUP BY month\n",
    "\"\"\"\n",
    "\n",
    "data = sqldf(query)\n",
    "ci = 1.645 * data[\"std\"]/np.sqrt(data[\"count\"])"
   ]
  },
  {
   "cell_type": "code",
   "execution_count": 36,
   "id": "941bd60e",
   "metadata": {},
   "outputs": [
    {
     "data": {
      "text/plain": [
       "Text(0, 0.5, 'Average distance')"
      ]
     },
     "execution_count": 36,
     "metadata": {},
     "output_type": "execute_result"
    },
    {
     "data": {
      "image/png": "[encoded data removed]",
      "text/plain": [
       "<Figure size 432x288 with 1 Axes>"
      ]
     },
     "metadata": {
      "needs_background": "light"
     },
     "output_type": "display_data"
    }
   ],
   "source": [
    "x = data[\"month\"]\n",
    "y = data[\"ave_distance\"]\n",
    "plt.plot(x, y)\n",
    "plt.fill_between(x, (y-ci), (y+ci), color='b', alpha=.1)\n",
    "plt.title(\"Average distance in each month\")\n",
    "plt.xlabel(\"Month\")\n",
    "plt.ylabel(\"Average distance\")"
   ]
  },
  {
   "cell_type": "markdown",
   "id": "0ece7ab1",
   "metadata": {},
   "source": [
    "## 3. Define three lat/long coordinate boxes around the three major New York airports: LGA, JFK, and EWR (you can use bboxfinder to help). Create a visualization that compares what day of the week was most popular for drop offs for each airport.\n",
    "\n",
    "We can see that for all three airports, Friday is the most busiest day of the week"
   ]
  },
  {
   "cell_type": "code",
   "execution_count": 37,
   "id": "85430859",
   "metadata": {},
   "outputs": [],
   "source": [
    "def filterBox(df, box):\n",
    "    df = df[\n",
    "         (df[\"dropoff_longitude\"] > box[0]) \n",
    "       & (df[\"dropoff_longitude\"] < box[2]) \n",
    "       & (df[\"dropoff_latitude\"] > box[1]) \n",
    "       & (df[\"dropoff_latitude\"] < box[3])]\n",
    "    return df"
   ]
  },
  {
   "cell_type": "code",
   "execution_count": 38,
   "id": "359c7bff",
   "metadata": {},
   "outputs": [],
   "source": [
    "LGA = [-73.891694, 40.763007, -73.850066, 40.790436]\n",
    "JFK = [-73.829375, 40.617517, -73.743544, 40.670660]\n",
    "EWR = [-74.205452, 40.664547, -74.146572, 40.716221]"
   ]
  },
  {
   "cell_type": "code",
   "execution_count": 39,
   "id": "ccf41ffa",
   "metadata": {},
   "outputs": [],
   "source": [
    "lga_rides = filterBox(all_rides, LGA)\n",
    "query = \"\"\"\n",
    "SELECT dayofweek + 1 AS day, COUNT(*) as num_rides\n",
    "FROM lga_rides\n",
    "GROUP BY dayofweek\n",
    "\"\"\"\n",
    "lga_rides = sqldf(query)\n",
    "\n",
    "jfk_rides = filterBox(all_rides, JFK)\n",
    "query = \"\"\"\n",
    "SELECT dayofweek + 1 AS day, COUNT(*) as num_rides\n",
    "FROM jfk_rides\n",
    "GROUP BY dayofweek\n",
    "\"\"\"\n",
    "jfk_rides = sqldf(query)\n",
    "\n",
    "ewr_rides = filterBox(all_rides, EWR)\n",
    "query = \"\"\"\n",
    "SELECT dayofweek + 1 AS day, COUNT(*) as num_rides\n",
    "FROM ewr_rides\n",
    "GROUP BY dayofweek\n",
    "\"\"\"\n",
    "ewr_rides = sqldf(query)"
   ]
  },
  {
   "cell_type": "code",
   "execution_count": 40,
   "id": "0d734e36",
   "metadata": {},
   "outputs": [
    {
     "data": {
      "text/plain": [
       "Text(0, 0.5, 'Number of rides')"
      ]
     },
     "execution_count": 40,
     "metadata": {},
     "output_type": "execute_result"
    },
    {
     "data": {
      "image/png": "[encoded data removed]",
      "text/plain": [
       "<Figure size 432x288 with 1 Axes>"
      ]
     },
     "metadata": {
      "needs_background": "light"
     },
     "output_type": "display_data"
    }
   ],
   "source": [
    "plt.plot(lga_rides[\"day\"], lga_rides[\"num_rides\"], label=\"LGA\")\n",
    "plt.plot(jfk_rides[\"day\"], jfk_rides[\"num_rides\"], label=\"JFK\")\n",
    "plt.plot(ewr_rides[\"day\"], ewr_rides[\"num_rides\"], label=\"EWR\")\n",
    "plt.legend()\n",
    "plt.title(\"Number of rides in day of the week\")\n",
    "plt.xlabel(\"Day of the week\")\n",
    "plt.ylabel(\"Number of rides\")"
   ]
  },
  {
   "cell_type": "markdown",
   "id": "473ca53c",
   "metadata": {},
   "source": [
    "## 4. Create a heatmap of all hired trips over a map of the area. Consider using KeplerGL or another library that helps generate geospatial visualizations.\n",
    "To speed up the visualization and build a more friendly heatmap, we take 20K samples from all the rides."
   ]
  },
  {
   "cell_type": "code",
   "execution_count": 41,
   "id": "eeb497c3",
   "metadata": {},
   "outputs": [],
   "source": [
    "map_data = all_rides\n",
    "map_data = map_data.sample(20000)"
   ]
  },
  {
   "cell_type": "code",
   "execution_count": 42,
   "id": "af9e8f44",
   "metadata": {},
   "outputs": [
    {
     "name": "stdout",
     "output_type": "stream",
     "text": [
      "User Guide: https://docs.kepler.gl/docs/keplergl-jupyter\n"
     ]
    }
   ],
   "source": [
    "map1 = KeplerGl(height=400)"
   ]
  },
  {
   "cell_type": "code",
   "execution_count": 43,
   "id": "89419a29",
   "metadata": {},
   "outputs": [],
   "source": [
    "map1.add_data(data=map_data,name='New York City Taxi Trips')"
   ]
  },
  {
   "cell_type": "code",
   "execution_count": 45,
   "id": "55d407e9",
   "metadata": {
    "scrolled": false
   },
   "outputs": [
    {
     "data": {
      "application/vnd.jupyter.widget-view+json": {
       "model_id": "c7d951ec4af34911977b3c9e83eacaa5",
       "version_major": 2,
       "version_minor": 0
      },
      "text/plain": [
       "KeplerGl(config={'version': 'v1', 'config': {'visState': {'filters': [], 'layers': [{'id': '3qqt71q', 'type': …"
      ]
     },
     "metadata": {},
     "output_type": "display_data"
    }
   ],
   "source": [
    "map1"
   ]
  },
  {
   "cell_type": "markdown",
   "id": "2c3b2feb",
   "metadata": {},
   "source": [
    "## 5. Create a scatter plot that compares tip amount versus distance for Yellow Taxi rides. You may remove any outliers how you see fit.\n"
   ]
  },
  {
   "cell_type": "markdown",
   "id": "fe4447f2",
   "metadata": {},
   "source": [
    "We do see a linear relationship between the distance and the tip amount. (About 0.5 dollar per mile)"
   ]
  },
  {
   "cell_type": "code",
   "execution_count": 46,
   "id": "39bc3517",
   "metadata": {},
   "outputs": [
    {
     "data": {
      "text/plain": [
       "Text(0, 0.5, 'Tips')"
      ]
     },
     "execution_count": 46,
     "metadata": {},
     "output_type": "execute_result"
    },
    {
     "data": {
      "image/png": "[encoded data removed]",
      "text/plain": [
       "<Figure size 432x288 with 1 Axes>"
      ]
     },
     "metadata": {
      "needs_background": "light"
     },
     "output_type": "display_data"
    }
   ],
   "source": [
    "data = yellow_cab[(yellow_cab[\"distance\"] < 30) & (yellow_cab[\"tip_amount\"] < 30)]\n",
    "plt.scatter(data[\"distance\"], data[\"tip_amount\"], alpha=0.005)\n",
    "plt.title(\"Travel Distance vs Tip Amount\")\n",
    "plt.xlabel(\"Travel Distance\")\n",
    "plt.ylabel(\"Tips\")"
   ]
  },
  {
   "cell_type": "markdown",
   "id": "11c48289",
   "metadata": {},
   "source": [
    "## 6. Create another scatter plot that compares tip amount versus precipitation amount for Yellow Taxi rides. You may remove any outliers how you see fit"
   ]
  },
  {
   "cell_type": "markdown",
   "id": "de00d44c",
   "metadata": {},
   "source": [
    "We can see that it also have a linear relationship, about $y=0.15x$. (15~20% of tips)"
   ]
  },
  {
   "cell_type": "code",
   "execution_count": 47,
   "id": "71df750a",
   "metadata": {},
   "outputs": [
    {
     "data": {
      "text/plain": [
       "(0.0, 150.0)"
      ]
     },
     "execution_count": 47,
     "metadata": {},
     "output_type": "execute_result"
    },
    {
     "data": {
      "image/png": "[encoded data removed]",
      "text/plain": [
       "<Figure size 432x288 with 1 Axes>"
      ]
     },
     "metadata": {
      "needs_background": "light"
     },
     "output_type": "display_data"
    }
   ],
   "source": [
    "data = yellow_cab[(yellow_cab[\"total_amount\"] < 150) & (yellow_cab[\"tip_amount\"] < 30)]\n",
    "plt.scatter(data[\"total_amount\"], data[\"tip_amount\"], alpha=0.01)\n",
    "plt.title(\"Total Amount vs Tip Amount\")\n",
    "plt.xlabel(\"Total Amount\")\n",
    "plt.ylabel(\"Tips\")\n",
    "plt.xlim((0, 150))"
   ]
  },
  {
   "cell_type": "markdown",
   "id": "9e0a2e4f",
   "metadata": {},
   "source": [
    "## 7. Come up with 3 questions on your own that can be answered based on the data in the 4 tables. Create at least one visualization to answer each question. At least one visualization should require data from at least 3 tables.\n"
   ]
  },
  {
   "cell_type": "markdown",
   "id": "14cdccbc",
   "metadata": {},
   "source": [
    "#### 1. How does speed of the wind on a day impact the average distance of travel for both uber and yellow cab taxi? (Using yellow taxi, uber, and daily weather speed tables) Is it possible that on a windy day people prefer travel longer or shorter distance?\n",
    "\n",
    "We can see that the wind speed doesn't impact the travel distance very much. But higher wind speed does show that people will travel in less distance, especially in Uber."
   ]
  },
  {
   "cell_type": "code",
   "execution_count": 48,
   "id": "06e1a9f6",
   "metadata": {},
   "outputs": [],
   "source": [
    "query = \"\"\"\n",
    "SELECT u.year, u.month, u.day, AVG(distance) AS avg_distance, DailyAverageWindSpeed\n",
    "FROM uber u\n",
    "JOIN weather_daily w\n",
    "ON u.year = w.year AND u.month = w.month AND u.day = w.day\n",
    "GROUP BY u.year, u.month, u.day\n",
    "ORDER BY DailyAverageWindSpeed DESC\n",
    "\"\"\"\n",
    "uber_wind = sqldf(query)\n",
    "\n",
    "query = \"\"\"\n",
    "SELECT u.year, u.month, u.day, AVG(distance) AS avg_distance, DailyAverageWindSpeed\n",
    "FROM yellow_cab u\n",
    "JOIN weather_daily w\n",
    "ON u.year = w.year AND u.month = w.month AND u.day = w.day\n",
    "GROUP BY u.year, u.month, u.day\n",
    "ORDER BY DailyAverageWindSpeed DESC\n",
    "\"\"\"\n",
    "yellow_wind = sqldf(query)"
   ]
  },
  {
   "cell_type": "code",
   "execution_count": 49,
   "id": "f360a472",
   "metadata": {},
   "outputs": [
    {
     "data": {
      "text/plain": [
       "<matplotlib.legend.Legend at 0x7fea14bcdcd0>"
      ]
     },
     "execution_count": 49,
     "metadata": {},
     "output_type": "execute_result"
    },
    {
     "data": {
      "image/png": "[encoded data removed]",
      "text/plain": [
       "<Figure size 432x288 with 1 Axes>"
      ]
     },
     "metadata": {
      "needs_background": "light"
     },
     "output_type": "display_data"
    }
   ],
   "source": [
    "plt.title(\"Wind Speed vs Distance Traveled\")\n",
    "plt.scatter(uber_wind[\"DailyAverageWindSpeed\"], uber_wind[\"avg_distance\"], label=\"uber\")\n",
    "plt.scatter(yellow_wind[\"DailyAverageWindSpeed\"], yellow_wind[\"avg_distance\"], label=\"yellow_taxi\")\n",
    "plt.ylim((0, 200))\n",
    "plt.xlabel(\"Wind Speed\")\n",
    "plt.ylabel(\"Travel Distance\")\n",
    "plt.legend()"
   ]
  },
  {
   "cell_type": "markdown",
   "id": "a1a26827",
   "metadata": {},
   "source": [
    "#### 2. How much does people spent on Uber vs Yellow Taxi\n",
    "They spent about the same amount of money in Uber and Yellow Taxi. Even the price in Uber doesn't include the tips."
   ]
  },
  {
   "cell_type": "code",
   "execution_count": 50,
   "id": "6103d66a",
   "metadata": {},
   "outputs": [
    {
     "data": {
      "text/plain": [
       "Text(0, 0.5, 'fare amount in dollars')"
      ]
     },
     "execution_count": 50,
     "metadata": {},
     "output_type": "execute_result"
    },
    {
     "data": {
      "image/png": "[encoded data removed]",
      "text/plain": [
       "<Figure size 432x288 with 1 Axes>"
      ]
     },
     "metadata": {
      "needs_background": "light"
     },
     "output_type": "display_data"
    }
   ],
   "source": [
    "uber_sample = uber.sample(10000)\n",
    "yellow_sample = yellow_cab.sample(10000)\n",
    "\n",
    "plt.scatter(uber_sample[\"distance\"], uber_sample[\"fare_amount\"], alpha=1, label=\"uber\")\n",
    "plt.scatter(yellow_sample[\"distance\"], yellow_sample[\"total_amount\"], alpha=1, label=\"yellow_taxi\")\n",
    "plt.legend()\n",
    "plt.ylim((0, 150))\n",
    "plt.xlim((0, 40))\n",
    "plt.title(\"Travel distance vs Fare Amount\")\n",
    "plt.xlabel(\"distance\")\n",
    "plt.ylabel(\"fare amount in dollars\")"
   ]
  },
  {
   "cell_type": "markdown",
   "id": "9c1e5ea1",
   "metadata": {},
   "source": [
    "#### 3. Does people spent more money on week day or weekends?\n",
    "We see that people tends to spend much less money on Saturday. Maybe because they will stay at home and travel to closer areas."
   ]
  },
  {
   "cell_type": "code",
   "execution_count": 51,
   "id": "00ec0a8e",
   "metadata": {},
   "outputs": [],
   "source": [
    "query = \"\"\"\n",
    "SELECT dayofweek + 1 AS day, AVG(fare_amount) AS avg_spent\n",
    "FROM uber\n",
    "GROUP BY dayofweek\n",
    "ORDER BY dayofweek ASC\n",
    "\"\"\"\n",
    "uber_data = sqldf(query)\n",
    "query = \"\"\"\n",
    "SELECT dayofweek + 1 AS day, AVG(total_amount) AS avg_spent\n",
    "FROM yellow_cab\n",
    "GROUP BY dayofweek\n",
    "ORDER BY dayofweek ASC\n",
    "\"\"\"\n",
    "yellow_data = sqldf(query)"
   ]
  },
  {
   "cell_type": "code",
   "execution_count": 52,
   "id": "0d62e647",
   "metadata": {},
   "outputs": [
    {
     "data": {
      "text/plain": [
       "Text(0, 0.5, 'fare amount in dollars')"
      ]
     },
     "execution_count": 52,
     "metadata": {},
     "output_type": "execute_result"
    },
    {
     "data": {
      "image/png": "[encoded data removed]",
      "text/plain": [
       "<Figure size 432x288 with 1 Axes>"
      ]
     },
     "metadata": {
      "needs_background": "light"
     },
     "output_type": "display_data"
    }
   ],
   "source": [
    "plt.plot(uber_data[\"day\"], uber_data[\"avg_spent\"], label=\"uber\")\n",
    "plt.plot(yellow_data[\"day\"], yellow_data[\"avg_spent\"], label=\"yellow_taxi\")\n",
    "plt.legend()\n",
    "plt.title(\"Day of the week vs Fare Amount\")\n",
    "plt.xlabel(\"day of the week\")\n",
    "plt.ylabel(\"fare amount in dollars\")"
   ]
  },
  {
   "cell_type": "code",
   "execution_count": null,
   "id": "521a236a",
   "metadata": {},
   "outputs": [],
   "source": []
  }
 ],
 "metadata": {
  "kernelspec": {
   "display_name": "Python 3",
   "language": "python",
   "name": "python3"
  },
  "language_info": {
   "codemirror_mode": {
    "name": "ipython",
    "version": 3
   },
   "file_extension": ".py",
   "mimetype": "text/x-python",
   "name": "python",
   "nbconvert_exporter": "python",
   "pygments_lexer": "ipython3",
   "version": "3.8.8"
  }
 },
 "nbformat": 4,
 "nbformat_minor": 5
}
